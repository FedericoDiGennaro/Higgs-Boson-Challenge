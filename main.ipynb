{
 "cells": [
  {
   "cell_type": "markdown",
   "metadata": {},
   "source": [
    "### CROSS VALIDATION FOR DIFFERENT MODELS"
   ]
  },
  {
   "cell_type": "code",
   "execution_count": 64,
   "metadata": {
    "scrolled": true
   },
   "outputs": [
    {
     "name": "stdout",
     "output_type": "stream",
     "text": [
      "The autoreload extension is already loaded. To reload it, use:\n",
      "  %reload_ext autoreload\n"
     ]
    }
   ],
   "source": [
    "# The following magic method runs feature_engineering.ipynb\n",
    "%run ./feature_engineering.ipynb"
   ]
  },
  {
   "cell_type": "code",
   "execution_count": null,
   "metadata": {},
   "outputs": [],
   "source": []
  },
  {
   "cell_type": "code",
   "execution_count": 28,
   "metadata": {},
   "outputs": [],
   "source": [
    "list_mean = []\n",
    "list_std = []\n",
    "for i in range(len(list_tx_matrix)):\n",
    "    list_tx_matrix[i],mean,std = standardize(list_tx_matrix[i])\n",
    "    list_mean.append(mean)\n",
    "    list_std.append(std)"
   ]
  },
  {
   "cell_type": "code",
   "execution_count": 29,
   "metadata": {},
   "outputs": [],
   "source": [
    "best_degree_list = []\n",
    "best_lambda_list = []\n",
    "best_err_list = []\n",
    "\n",
    "\n",
    "for i in range(len(list_tx_matrix)):\n",
    "    best_degree,best_lambda,best_err = cross_validation_demo_ridge(list_y[i], list_tx_matrix[i]\n",
    "                                                   , 4, np.logspace(-5,-1,20),[1,2])\n",
    "    best_degree_list.append(best_degree)\n",
    "    best_lambda_list.append(best_lambda)\n",
    "    best_err_list.append(best_err)"
   ]
  },
  {
   "cell_type": "code",
   "execution_count": 30,
   "metadata": {},
   "outputs": [],
   "source": [
    "list_w = []\n",
    "list_loss = []\n",
    "for i in range(len(list_tx_matrix)):\n",
    "    w, loss = ridge_regression(list_y[i], list_tx_matrix[i], best_lambda_list[i])\n",
    "    list_w.append(w)\n",
    "    list_loss.append(loss)"
   ]
  },
  {
   "cell_type": "code",
   "execution_count": 31,
   "metadata": {},
   "outputs": [],
   "source": [
    "tx_test,test_ids=load_test_data('C:/Users/dange/Desktop/Project 1 ML - Locale/data/test.csv')"
   ]
  },
  {
   "cell_type": "code",
   "execution_count": 32,
   "metadata": {},
   "outputs": [],
   "source": [
    "tx_test = add_ids_column_test(tx_test, test_ids)"
   ]
  },
  {
   "cell_type": "code",
   "execution_count": 33,
   "metadata": {},
   "outputs": [],
   "source": [
    "list_tx_test_matrix = divide_test_data_in_subset(tx_test)"
   ]
  },
  {
   "cell_type": "code",
   "execution_count": 34,
   "metadata": {},
   "outputs": [],
   "source": [
    "ids_test_after_subset = ids_divided(list_tx_test_matrix)"
   ]
  },
  {
   "cell_type": "code",
   "execution_count": 35,
   "metadata": {},
   "outputs": [],
   "source": [
    "list_tx_test_matrix = delete_ids_test(list_tx_test_matrix)"
   ]
  },
  {
   "cell_type": "code",
   "execution_count": 36,
   "metadata": {},
   "outputs": [],
   "source": [
    "for i in range (len(list_tx_test_matrix)):\n",
    "    list_tx_test_matrix[i]=managing_missing_values(list_tx_test_matrix[i])\n"
   ]
  },
  {
   "cell_type": "code",
   "execution_count": 37,
   "metadata": {},
   "outputs": [],
   "source": [
    "list_tx_test_matrix[0]= np.delete(list_tx_test_matrix[0], 18, 1)"
   ]
  },
  {
   "cell_type": "code",
   "execution_count": 38,
   "metadata": {},
   "outputs": [],
   "source": [
    "for i in range(len(list_tx_test_matrix)):\n",
    "    list_tx_test_matrix[i] -= list_mean[i]\n",
    "    list_tx_test_matrix[i] /= list_std[i]"
   ]
  },
  {
   "cell_type": "code",
   "execution_count": 39,
   "metadata": {},
   "outputs": [],
   "source": [
    "prediction = []\n",
    "for i in range(len(list_tx_test_matrix)):\n",
    "    prediction.append(predict_ridge(list_tx_test_matrix[i],list_w[i]))"
   ]
  },
  {
   "cell_type": "code",
   "execution_count": 40,
   "metadata": {},
   "outputs": [],
   "source": [
    "tot_prediction = []\n",
    "for i in range(len(prediction)):\n",
    "    tot_prediction = np.concatenate((tot_prediction, prediction[i]))"
   ]
  },
  {
   "cell_type": "code",
   "execution_count": 41,
   "metadata": {},
   "outputs": [],
   "source": [
    "prediction = return_right_prediction(tot_prediction, ids_test_after_subset)"
   ]
  },
  {
   "cell_type": "code",
   "execution_count": 42,
   "metadata": {},
   "outputs": [],
   "source": [
    "create_submission(test_ids,prediction,['Id','Prediction'],'C:/Users/dange/Desktop/Project 1 ML - Locale/output/22_10_2022.csv')"
   ]
  }
 ],
 "metadata": {
  "kernelspec": {
   "display_name": "Python 3 (ipykernel)",
   "language": "python",
   "name": "python3"
  },
  "language_info": {
   "codemirror_mode": {
    "name": "ipython",
    "version": 3
   },
   "file_extension": ".py",
   "mimetype": "text/x-python",
   "name": "python",
   "nbconvert_exporter": "python",
   "pygments_lexer": "ipython3",
   "version": "3.9.12"
  },
  "vscode": {
   "interpreter": {
    "hash": "2e9c25df0253b19710fd2eabc0119b804c820fc74e8ba938ebab686d76fc4dfb"
   }
  }
 },
 "nbformat": 4,
 "nbformat_minor": 2
}
