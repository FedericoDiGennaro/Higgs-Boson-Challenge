{
 "cells": [
  {
   "cell_type": "code",
   "execution_count": 1,
   "id": "6b0b70f7",
   "metadata": {},
   "outputs": [],
   "source": [
    "import numpy as np\n",
    "import matplotlib\n",
    "import matplotlib.pyplot as plt\n",
    "from helpers import *\n",
    "from implementations import *\n",
    "%matplotlib inline\n",
    "%load_ext autoreload\n",
    "%autoreload 2"
   ]
  },
  {
   "cell_type": "markdown",
   "id": "c27b7228",
   "metadata": {},
   "source": [
    "DEFINING TRAINDATA PATH & LOADING TRAIN DATA"
   ]
  },
  {
   "cell_type": "code",
   "execution_count": 2,
   "id": "99dc0199",
   "metadata": {},
   "outputs": [],
   "source": [
    "current_path = './'\n",
    "folder = 'Data/' \n",
    "file_name = 'train.csv'\n",
    "path = current_path+folder+file_name\n",
    "y,tx,ids,features = load_train_data(path)"
   ]
  },
  {
   "cell_type": "markdown",
   "id": "1cfc3e35",
   "metadata": {},
   "source": [
    "CLEANING DATA"
   ]
  },
  {
   "cell_type": "code",
   "execution_count": 3,
   "id": "e2e88c37",
   "metadata": {},
   "outputs": [],
   "source": [
    "missing_values_columns = np.isnan(tx).any(axis = 0)\n",
    "#useful_features = [ not ch.startswith('DER') for ch in features[~missing_values_columns]]\n",
    "tx_train = tx[:,~missing_values_columns]\n",
    "#tx_train = tx_train[:,useful_features]"
   ]
  },
  {
   "cell_type": "code",
   "execution_count": 4,
   "id": "77338143",
   "metadata": {},
   "outputs": [],
   "source": [
    "tx_train,mean,std = standardize(tx_train)"
   ]
  },
  {
   "cell_type": "markdown",
   "id": "1e1543cf",
   "metadata": {},
   "source": [
    "TRAINING LOGISTIC REGRESSION MODEL"
   ]
  },
  {
   "cell_type": "code",
   "execution_count": 5,
   "id": "aaafb646",
   "metadata": {},
   "outputs": [],
   "source": [
    "w = np.zeros(tx_train.shape[1])\n",
    "final_w, loss = logistic_regression(y, tx_train,w, max_iters=1000, gamma=0.1)"
   ]
  },
  {
   "cell_type": "code",
   "execution_count": 6,
   "id": "7d204898",
   "metadata": {},
   "outputs": [
    {
     "data": {
      "text/plain": [
       "array([-0.59228894, -0.66029787,  0.13954433,  0.70420711, -0.11456433,\n",
       "        0.08056101, -0.34211025,  0.27190521,  0.59664272, -0.00253938,\n",
       "       -0.00227984,  0.56649384, -0.00137796,  0.00581279,  0.2058186 ,\n",
       "        0.00166818, -0.16856154,  0.13594124, -0.16885262])"
      ]
     },
     "execution_count": 6,
     "metadata": {},
     "output_type": "execute_result"
    }
   ],
   "source": [
    "final_w"
   ]
  },
  {
   "cell_type": "code",
   "execution_count": 7,
   "id": "ea16fb3f",
   "metadata": {},
   "outputs": [
    {
     "data": {
      "text/plain": [
       "0.5830921944759986"
      ]
     },
     "execution_count": 7,
     "metadata": {},
     "output_type": "execute_result"
    }
   ],
   "source": [
    "loss"
   ]
  },
  {
   "cell_type": "markdown",
   "id": "1fa49a0c",
   "metadata": {},
   "source": [
    "IMPORTING TEST DATA"
   ]
  },
  {
   "cell_type": "code",
   "execution_count": 13,
   "id": "06d15028",
   "metadata": {},
   "outputs": [],
   "source": [
    "file_name = 'test.csv'\n",
    "test_path = current_path+folder+file_name\n",
    "tx_test,test_ids = load_test_data(test_path,~missing_values_columns)\n",
    "#tx_test = tx_test[:,useful_features]\n",
    "tx_test = (tx_test - mean)/ std"
   ]
  },
  {
   "cell_type": "code",
   "execution_count": 15,
   "id": "3fc2d11b",
   "metadata": {},
   "outputs": [],
   "source": [
    "prediction = predict(tx_test,final_w,threshold = 0.5)"
   ]
  },
  {
   "cell_type": "code",
   "execution_count": 16,
   "id": "a02acf04",
   "metadata": {},
   "outputs": [],
   "source": [
    "create_submission(test_ids,prediction, ['Id','Prediction'],'output_truelogistic.csv')"
   ]
  }
 ],
 "metadata": {
  "kernelspec": {
   "display_name": "Python 3.10.6 64-bit",
   "language": "python",
   "name": "python3"
  },
  "language_info": {
   "codemirror_mode": {
    "name": "ipython",
    "version": 3
   },
   "file_extension": ".py",
   "mimetype": "text/x-python",
   "name": "python",
   "nbconvert_exporter": "python",
   "pygments_lexer": "ipython3",
   "version": "3.10.6"
  },
  "vscode": {
   "interpreter": {
    "hash": "eb497c3723b37b10a68074ffffb4e0dec45962665e54f996f7e033fc0648d03d"
   }
  }
 },
 "nbformat": 4,
 "nbformat_minor": 5
}
