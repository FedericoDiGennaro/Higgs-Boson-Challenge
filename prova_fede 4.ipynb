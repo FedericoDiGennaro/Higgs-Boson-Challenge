{
 "cells": [
  {
   "cell_type": "code",
   "execution_count": 1,
   "metadata": {},
   "outputs": [],
   "source": [
    "import numpy as np\n",
    "import matplotlib\n",
    "import matplotlib.pyplot as plt\n",
    "import seaborn as sns\n",
    "from helpers import *\n",
    "from implementations import *\n",
    "from crossvalidation import *\n",
    "from preprocessing import *\n",
    "from plots import *\n",
    "\n",
    "%matplotlib inline\n",
    "%load_ext autoreload\n",
    "%autoreload 2"
   ]
  },
  {
   "cell_type": "markdown",
   "metadata": {},
   "source": [
    "IMPORTING TRAINING DATA"
   ]
  },
  {
   "cell_type": "code",
   "execution_count": 2,
   "metadata": {},
   "outputs": [],
   "source": [
    "filename = 'train.csv'\n",
    "data_folder = './data/'\n",
    "file_path = data_folder + filename\n",
    "y,tx,ids,features = load_train_data(file_path)"
   ]
  },
  {
   "cell_type": "markdown",
   "metadata": {},
   "source": [
    "DEALING WITH CATEGORICAL VARIABLES"
   ]
  },
  {
   "cell_type": "code",
   "execution_count": 3,
   "metadata": {},
   "outputs": [],
   "source": [
    "tx_train = categorical_values(tx,22,4)"
   ]
  },
  {
   "cell_type": "markdown",
   "metadata": {},
   "source": [
    "IDENTIFYING AND DELETING THE COLUMNS HAVING MISSING VALUES"
   ]
  },
  {
   "cell_type": "code",
   "execution_count": 4,
   "metadata": {},
   "outputs": [],
   "source": [
    "tx_train=managing_missing_values(tx_train)"
   ]
  },
  {
   "cell_type": "markdown",
   "metadata": {},
   "source": [
    "HANDLING OUTLIERS"
   ]
  },
  {
   "cell_type": "code",
   "execution_count": 5,
   "metadata": {},
   "outputs": [],
   "source": [
    "tx_train=capping_outliers(tx_train)"
   ]
  },
  {
   "cell_type": "markdown",
   "metadata": {},
   "source": [
    "STANDARDIZING FEATURE MATRIX"
   ]
  },
  {
   "cell_type": "code",
   "execution_count": 6,
   "metadata": {},
   "outputs": [],
   "source": [
    "tx_train,mean,std = standardize(tx_train)"
   ]
  },
  {
   "cell_type": "code",
   "execution_count": 7,
   "metadata": {},
   "outputs": [],
   "source": [
    "#add offset\n",
    "y, tx_train = build_model_data(y, tx_train)"
   ]
  },
  {
   "cell_type": "markdown",
   "metadata": {},
   "source": [
    "CROSS VALIDATION FOR HYPERPARAMETERS"
   ]
  },
  {
   "cell_type": "code",
   "execution_count": 8,
   "metadata": {},
   "outputs": [
    {
     "name": "stdout",
     "output_type": "stream",
     "text": [
      "The choice of lambda which leads to the best test rmse is 0.00010 with a test rmse of 0.371\n"
     ]
    },
    {
     "data": {
      "image/png": "[encoded data removed]",
      "text/plain": [
       "<Figure size 432x288 with 1 Axes>"
      ]
     },
     "metadata": {
      "needs_background": "light"
     },
     "output_type": "display_data"
    }
   ],
   "source": [
    "best_lambda,best_error = cross_validation_demo_r(y[:100000], tx_train[:100000,:], 4, np.logspace(-4,5,20), 5)"
   ]
  },
  {
   "cell_type": "markdown",
   "metadata": {},
   "source": [
    "TEST MODEL ACCURACY"
   ]
  },
  {
   "cell_type": "code",
   "execution_count": 9,
   "metadata": {},
   "outputs": [
    {
     "name": "stdout",
     "output_type": "stream",
     "text": [
      "Average train accuracy: 0.8165554285714286\n",
      "std train accuracy: 0.000532286864503004\n",
      "Average test accuracy: 0.8166693333333332\n",
      "std train accuracy: 0.0012422459946045657\n"
     ]
    }
   ],
   "source": [
    "test_accuracy = np.zeros(10)\n",
    "train_accuracy = np.zeros(10)\n",
    "for n in range(10):\n",
    "    x_train,x_test,y_train,y_test = divide_dataset(tx_train,y,0.7)\n",
    "\n",
    "    x_train_temp = x_train[:,1:-4]\n",
    "    x_test_temp = x_test[:, 1:-4]\n",
    "\n",
    "    phi = build_poly(x_train_temp, degree=5)\n",
    "    phi2 = build_poly(x_test_temp, degree=5)\n",
    "\n",
    "    #aggiungo offset di nuovo \n",
    "\n",
    "    _, phi = build_model_data(y_train, phi)\n",
    "    _, phi2 = build_model_data(y_test, phi2)\n",
    "    \n",
    "    #aggiungo categoriche\n",
    "    phi=np.hstack((phi,x_train[:,-4:]))\n",
    "    phi2=np.hstack((phi2,x_test[:,-4:]))\n",
    "\n",
    "    w_opt,_ = ridge_regression(y_train,phi,best_lambda)\n",
    "    pred_train = phi.dot(w_opt)\n",
    "    pred_train[pred_train>=0.5]=1\n",
    "    pred_train[pred_train<0.5]=0\n",
    "    pred_test = phi2.dot(w_opt)\n",
    "    pred_test[pred_test>=0.5]=1\n",
    "    pred_test[pred_test<0.5]=0\n",
    "    train_accuracy[n] = np.sum(pred_train == y_train)/len(y_train)\n",
    "    test_accuracy[n] = np.sum(pred_test == y_test)/len(y_test)\n",
    "\n",
    "print('Average train accuracy: {}'.format(np.mean(train_accuracy)))\n",
    "print('std train accuracy: {}'.format(np.std(train_accuracy)))\n",
    "print('Average test accuracy: {}'.format(np.mean(test_accuracy)))\n",
    "print('std train accuracy: {}'.format(np.std(test_accuracy)))\n",
    "\n",
    "    "
   ]
  },
  {
   "cell_type": "markdown",
   "metadata": {},
   "source": [
    "GETTING CSV"
   ]
  },
  {
   "cell_type": "code",
   "execution_count": null,
   "metadata": {},
   "outputs": [],
   "source": []
  }
 ],
 "metadata": {
  "kernelspec": {
   "display_name": "Python 3.8.5 32-bit",
   "language": "python",
   "name": "python3"
  },
  "language_info": {
   "codemirror_mode": {
    "name": "ipython",
    "version": 3
   },
   "file_extension": ".py",
   "mimetype": "text/x-python",
   "name": "python",
   "nbconvert_exporter": "python",
   "pygments_lexer": "ipython3",
   "version": "3.8.5"
  },
  "vscode": {
   "interpreter": {
    "hash": "bfe99a63d4b23cdacdf61a3e793efa0f9cd884d6ae1b219140cea655a6a57cf1"
   }
  }
 },
 "nbformat": 4,
 "nbformat_minor": 2
}
