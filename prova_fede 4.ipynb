{
 "cells": [
  {
   "cell_type": "code",
   "execution_count": 57,
   "metadata": {},
   "outputs": [
    {
     "name": "stdout",
     "output_type": "stream",
     "text": [
      "The autoreload extension is already loaded. To reload it, use:\n",
      "  %reload_ext autoreload\n"
     ]
    }
   ],
   "source": [
    "import numpy as np\n",
    "import matplotlib\n",
    "import matplotlib.pyplot as plt\n",
    "import seaborn as sns\n",
    "from helpers import *\n",
    "from implementations import *\n",
    "from crossvalidation import *\n",
    "from preprocessing import *\n",
    "from plots import *\n",
    "\n",
    "%matplotlib inline\n",
    "%load_ext autoreload\n",
    "%autoreload 2"
   ]
  },
  {
   "cell_type": "markdown",
   "metadata": {},
   "source": [
    "IMPORTING TRAINING DATA"
   ]
  },
  {
   "cell_type": "code",
   "execution_count": 58,
   "metadata": {},
   "outputs": [],
   "source": [
    "filename = 'train.csv'\n",
    "data_folder = './data/'\n",
    "file_path = data_folder + filename\n",
    "y,tx,ids,features = load_train_data(file_path)"
   ]
  },
  {
   "cell_type": "markdown",
   "metadata": {},
   "source": [
    "DEALING WITH CATEGORICAL VARIABLES"
   ]
  },
  {
   "cell_type": "code",
   "execution_count": 59,
   "metadata": {},
   "outputs": [],
   "source": [
    "tx_train = categorical_values(tx,22,4)"
   ]
  },
  {
   "cell_type": "markdown",
   "metadata": {},
   "source": [
    "IDENTIFYING AND DELETING THE COLUMNS HAVING MISSING VALUES"
   ]
  },
  {
   "cell_type": "code",
   "execution_count": 60,
   "metadata": {},
   "outputs": [],
   "source": [
    "tx_train=managing_missing_values(tx_train)"
   ]
  },
  {
   "cell_type": "markdown",
   "metadata": {},
   "source": [
    "HANDLING OUTLIERS - ??????"
   ]
  },
  {
   "cell_type": "code",
   "execution_count": 61,
   "metadata": {},
   "outputs": [],
   "source": [
    "tx_train=capping_outliers(tx_train)"
   ]
  },
  {
   "cell_type": "markdown",
   "metadata": {},
   "source": [
    "STANDARDIZING FEATURE MATRIX"
   ]
  },
  {
   "cell_type": "code",
   "execution_count": 62,
   "metadata": {},
   "outputs": [],
   "source": [
    "tx_train,mean,std = standardize(tx_train)"
   ]
  },
  {
   "cell_type": "markdown",
   "metadata": {},
   "source": [
    "ADD OFFSET (do not run this cell that if you want to expand later in the code)"
   ]
  },
  {
   "cell_type": "code",
   "execution_count": 21,
   "metadata": {},
   "outputs": [],
   "source": [
    "y, tx_train = build_model_data(y, tx_train)"
   ]
  },
  {
   "cell_type": "markdown",
   "metadata": {},
   "source": [
    "CROSS VALIDATION FOR HYPERPARAMETERS"
   ]
  },
  {
   "cell_type": "code",
   "execution_count": 52,
   "metadata": {},
   "outputs": [],
   "source": [
    "indices = np.random.permutation(len(y))[:50000]"
   ]
  },
  {
   "cell_type": "code",
   "execution_count": 63,
   "metadata": {
    "scrolled": true
   },
   "outputs": [
    {
     "name": "stdout",
     "output_type": "stream",
     "text": [
      "The choice of lambda which leads to the best test rmse is 0.00018 with a test rmse of 0.380. The best degree is 2.0\n"
     ]
    }
   ],
   "source": [
    "best_degree,best_lambda,best_err = cross_validation_demo_ridge(y[indices],tx_train[indices,:]\n",
    "                                                   , 4, np.logspace(-5,-1,20),[1,2])"
   ]
  },
  {
   "cell_type": "code",
   "execution_count": 54,
   "metadata": {
    "scrolled": true
   },
   "outputs": [
    {
     "name": "stdout",
     "output_type": "stream",
     "text": [
      "The choice of lambda which leads to the best test rmse is 0.00001 with a test rmse of 0.417. The best degree is 2.0\n"
     ]
    }
   ],
   "source": [
    "best_degree,best_lambda,best_err = cross_validation_demo_log(y[indices],tx_train[indices,:]\n",
    "                                                   , 4, np.logspace(-5,-1,10),0.3,300,[1,2])"
   ]
  },
  {
   "cell_type": "markdown",
   "metadata": {},
   "source": [
    "TEST MODEL ACCURACY"
   ]
  },
  {
   "cell_type": "code",
   "execution_count": 69,
   "metadata": {
    "scrolled": true
   },
   "outputs": [
    {
     "name": "stdout",
     "output_type": "stream",
     "text": [
      "Average train accuracy: 0.8119987301587301\n",
      "std train accuracy: 0.0005394531725475682\n",
      "Average test accuracy: 0.8120222222222222\n",
      "std train accuracy: 0.0012616900286500858\n"
     ]
    }
   ],
   "source": [
    "# Remember to set predict to 0, not -1\n",
    "compute_accuracy(y,tx_train,divide_ratio = 0.7,lambda_ = best_lambda, deg = best_degree,method = 'logistic')"
   ]
  },
  {
   "cell_type": "code",
   "execution_count": null,
   "metadata": {},
   "outputs": [],
   "source": []
  },
  {
   "cell_type": "code",
   "execution_count": null,
   "metadata": {},
   "outputs": [],
   "source": []
  },
  {
   "cell_type": "code",
   "execution_count": 126,
   "metadata": {},
   "outputs": [],
   "source": [
    "tx_train_temp = tx_train[:,1:-4]\n",
    "phi = build_poly(tx_train_temp, degree=2)\n",
    "tx_train = np.hstack((phi,tx_train[:,-4:]))"
   ]
  },
  {
   "cell_type": "code",
   "execution_count": 127,
   "metadata": {},
   "outputs": [],
   "source": [
    "final_w,err = least_squares(y,tx_train)"
   ]
  },
  {
   "cell_type": "markdown",
   "metadata": {},
   "source": [
    "GETTING CSV"
   ]
  },
  {
   "cell_type": "code",
   "execution_count": 130,
   "metadata": {},
   "outputs": [],
   "source": [
    "test_data = 'test.csv'\n",
    "tx_test,ids_test = load_test_data(data_folder+test_data)"
   ]
  },
  {
   "cell_type": "markdown",
   "metadata": {},
   "source": [
    "HANDLING CATEGORICAL VARIABLE"
   ]
  },
  {
   "cell_type": "code",
   "execution_count": 131,
   "metadata": {},
   "outputs": [],
   "source": [
    "tx_test = categorical_values(tx_test,22,4)"
   ]
  },
  {
   "cell_type": "markdown",
   "metadata": {},
   "source": [
    "HANDLING MISSING DATA"
   ]
  },
  {
   "cell_type": "code",
   "execution_count": 132,
   "metadata": {},
   "outputs": [],
   "source": [
    "tx_test=managing_missing_values(tx_test)"
   ]
  },
  {
   "cell_type": "markdown",
   "metadata": {},
   "source": [
    "STANDARDIZING THE DATA"
   ]
  },
  {
   "cell_type": "code",
   "execution_count": 133,
   "metadata": {},
   "outputs": [],
   "source": [
    "tx_test[:,:-4] = (tx_test[:,:-4]-mean)/std\n",
    "_,tx_test= build_model_data(np.zeros(tx_test.shape[0]),tx_test)"
   ]
  },
  {
   "cell_type": "code",
   "execution_count": 134,
   "metadata": {},
   "outputs": [],
   "source": [
    "tx_test_temp = tx_test[:,1:-4]\n",
    "phi_test = build_poly(tx_test_temp, degree=2)\n",
    "tx_test = np.hstack((phi_test,tx_test[:,-4:]))"
   ]
  },
  {
   "cell_type": "markdown",
   "metadata": {},
   "source": [
    "PREDICTIONS"
   ]
  },
  {
   "cell_type": "code",
   "execution_count": 136,
   "metadata": {},
   "outputs": [],
   "source": [
    "predictions = tx_test.dot(final_w)\n",
    "predictions[predictions>=0.5]=1\n",
    "predictions[predictions<0.5]=-1"
   ]
  },
  {
   "cell_type": "markdown",
   "metadata": {},
   "source": [
    "CREATE SUBMISSION"
   ]
  },
  {
   "cell_type": "code",
   "execution_count": 137,
   "metadata": {},
   "outputs": [],
   "source": [
    "create_submission(ids_test,predictions.astype(int),name = ['Id','Prediction'],file_name='./output/output_leastsquare.csv')"
   ]
  }
 ],
 "metadata": {
  "kernelspec": {
   "display_name": "Python 3 (ipykernel)",
   "language": "python",
   "name": "python3"
  },
  "language_info": {
   "codemirror_mode": {
    "name": "ipython",
    "version": 3
   },
   "file_extension": ".py",
   "mimetype": "text/x-python",
   "name": "python",
   "nbconvert_exporter": "python",
   "pygments_lexer": "ipython3",
   "version": "3.9.12"
  },
  "vscode": {
   "interpreter": {
    "hash": "bfe99a63d4b23cdacdf61a3e793efa0f9cd884d6ae1b219140cea655a6a57cf1"
   }
  }
 },
 "nbformat": 4,
 "nbformat_minor": 4
}
