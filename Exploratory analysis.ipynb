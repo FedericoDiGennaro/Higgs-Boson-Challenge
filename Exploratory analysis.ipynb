{
 "cells": [
  {
   "cell_type": "code",
   "execution_count": 75,
   "id": "6b0b70f7",
   "metadata": {},
   "outputs": [
    {
     "name": "stdout",
     "output_type": "stream",
     "text": [
      "The autoreload extension is already loaded. To reload it, use:\n",
      "  %reload_ext autoreload\n"
     ]
    }
   ],
   "source": [
    "import numpy as np\n",
    "import matplotlib\n",
    "import matplotlib.pyplot as plt\n",
    "from helpers import *\n",
    "from implementations import *\n",
    "#import seaborn as sns\n",
    "%matplotlib inline\n",
    "%load_ext autoreload\n",
    "%autoreload 2"
   ]
  },
  {
   "cell_type": "markdown",
   "id": "c27b7228",
   "metadata": {},
   "source": [
    "DEFINING TRAINDATA PATH & LOADING TRAIN DATA"
   ]
  },
  {
   "cell_type": "code",
   "execution_count": 76,
   "id": "99dc0199",
   "metadata": {},
   "outputs": [],
   "source": [
    "current_path = './'\n",
    "folder = 'Data/' \n",
    "file_name = 'train.csv'\n",
    "path = current_path+folder+file_name\n",
    "y,tx,ids,features = load_train_data(path)"
   ]
  },
  {
   "cell_type": "markdown",
   "id": "1cfc3e35",
   "metadata": {},
   "source": [
    "CLEANING DATA"
   ]
  },
  {
   "cell_type": "code",
   "execution_count": 77,
   "id": "e2e88c37",
   "metadata": {},
   "outputs": [],
   "source": [
    "missing_values_columns = np.isnan(tx).any(axis = 0)\n",
    "tx_train = tx[:,~missing_values_columns]\n",
    "tx_train,mean,std = standardize(tx_train)"
   ]
  },
  {
   "cell_type": "markdown",
   "id": "1e1543cf",
   "metadata": {},
   "source": [
    "TRAINING LOGISTIC REGRESSION MODEL"
   ]
  },
  {
   "cell_type": "code",
   "execution_count": 78,
   "id": "aaafb646",
   "metadata": {},
   "outputs": [],
   "source": [
    "w = np.zeros(tx_train.shape[1])\n",
    "final_w, loss = reg_logistic_regression(y, tx_train, lambda_ = 0.5 ,w, max_iters=1000, gamma=0.1)"
   ]
  },
  {
   "cell_type": "markdown",
   "id": "1fa49a0c",
   "metadata": {},
   "source": [
    "IMPORTING TEST DATA"
   ]
  },
  {
   "cell_type": "code",
   "execution_count": 81,
   "id": "06d15028",
   "metadata": {},
   "outputs": [],
   "source": [
    "file_name = 'test.csv'\n",
    "test_path = current_path+folder+file_name\n",
    "tx_test,test_ids = load_test_data(test_path,~missing_values_columns)\n",
    "tx_test = (tx_test - mean)/ std"
   ]
  },
  {
   "cell_type": "code",
   "execution_count": 87,
   "id": "9ee4b24f",
   "metadata": {},
   "outputs": [],
   "source": [
    "output = tx_test.dot(final_w)\n",
    "index = output>0\n",
    "output[index] = 1\n",
    "output[~index] = -1"
   ]
  },
  {
   "cell_type": "code",
   "execution_count": 85,
   "id": "3fc2d11b",
   "metadata": {},
   "outputs": [],
   "source": [
    "prediction = predict(tx_test,final_w,threshold = 0.6)"
   ]
  },
  {
   "cell_type": "code",
   "execution_count": 88,
   "id": "a02acf04",
   "metadata": {},
   "outputs": [],
   "source": [
    "create_submission(test_ids,prediction, ['Id','Prediction'],'output_least.csv')"
   ]
  }
 ],
 "metadata": {
  "kernelspec": {
   "display_name": "Python 3.10.6 64-bit",
   "language": "python",
   "name": "python3"
  },
  "language_info": {
   "codemirror_mode": {
    "name": "ipython",
    "version": 3
   },
   "file_extension": ".py",
   "mimetype": "text/x-python",
   "name": "python",
   "nbconvert_exporter": "python",
   "pygments_lexer": "ipython3",
   "version": "3.10.6"
  },
  "vscode": {
   "interpreter": {
    "hash": "eb497c3723b37b10a68074ffffb4e0dec45962665e54f996f7e033fc0648d03d"
   }
  }
 },
 "nbformat": 4,
 "nbformat_minor": 5
}
