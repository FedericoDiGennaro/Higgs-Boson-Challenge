{
 "cells": [
  {
   "cell_type": "code",
   "execution_count": 33,
   "id": "6b0b70f7",
   "metadata": {},
   "outputs": [
    {
     "name": "stdout",
     "output_type": "stream",
     "text": [
      "The autoreload extension is already loaded. To reload it, use:\n",
      "  %reload_ext autoreload\n"
     ]
    }
   ],
   "source": [
    "import numpy as np\n",
    "import matplotlib\n",
    "import matplotlib.pyplot as plt\n",
    "from helpers import *\n",
    "from implementations import *\n",
    "#import seaborn as sns\n",
    "%matplotlib inline\n",
    "%load_ext autoreload\n",
    "%autoreload 2"
   ]
  },
  {
   "cell_type": "markdown",
   "id": "c27b7228",
   "metadata": {},
   "source": [
    "DEFINING TRAINDATA PATH & LOADING TRAIN DATA"
   ]
  },
  {
   "cell_type": "code",
   "execution_count": 2,
   "id": "99dc0199",
   "metadata": {},
   "outputs": [],
   "source": [
    "current_path = './'\n",
    "folder = 'Data/' \n",
    "file_name = 'train.csv'\n",
    "path = current_path+folder+file_name\n",
    "y,tx,ids,labels = load_train_data(path)"
   ]
  },
  {
   "cell_type": "markdown",
   "id": "1cfc3e35",
   "metadata": {},
   "source": [
    "CLEANING DATA & TRAINING LOGISTIC REGRESSION MODEL"
   ]
  },
  {
   "cell_type": "code",
   "execution_count": 3,
   "id": "aaafb646",
   "metadata": {},
   "outputs": [],
   "source": [
    "missing_values_indices = np.isnan(tx).any(axis = 1)\n",
    "tx_clean = tx[~missing_values_indices]\n",
    "y_clean = y[~missing_values_indices]\n",
    "tx_clean,mean,std = standardize(tx_clean)\n",
    "\n",
    "w = np.zeros(tx.shape[1])\n",
    "final_w, losses = logistic_regression(y_clean,tx_clean, w, max_iters=50,gamma=0.1)\n"
   ]
  },
  {
   "cell_type": "markdown",
   "id": "1fa49a0c",
   "metadata": {},
   "source": [
    "IMPORTING TEST DATA"
   ]
  },
  {
   "cell_type": "code",
   "execution_count": 4,
   "id": "06d15028",
   "metadata": {},
   "outputs": [],
   "source": [
    "file_name = 'test.csv'\n",
    "test_path = current_path+folder+file_name\n",
    "tx_test,test_ids = load_test_data(test_path)\n",
    "tx_test = (tx_test - mean)/std"
   ]
  },
  {
   "cell_type": "code",
   "execution_count": 30,
   "id": "3fc2d11b",
   "metadata": {},
   "outputs": [],
   "source": [
    "prediction = predict(tx_test,final_w,test_ids,threshold = 0.5)"
   ]
  },
  {
   "cell_type": "code",
   "execution_count": 36,
   "id": "a02acf04",
   "metadata": {},
   "outputs": [],
   "source": [
    "create_submission(test_ids,prediction, ['Id','Prediction'])"
   ]
  }
 ],
 "metadata": {
  "kernelspec": {
   "display_name": "Python 3.10.6 64-bit",
   "language": "python",
   "name": "python3"
  },
  "language_info": {
   "codemirror_mode": {
    "name": "ipython",
    "version": 3
   },
   "file_extension": ".py",
   "mimetype": "text/x-python",
   "name": "python",
   "nbconvert_exporter": "python",
   "pygments_lexer": "ipython3",
   "version": "3.10.6"
  },
  "vscode": {
   "interpreter": {
    "hash": "eb497c3723b37b10a68074ffffb4e0dec45962665e54f996f7e033fc0648d03d"
   }
  }
 },
 "nbformat": 4,
 "nbformat_minor": 5
}
